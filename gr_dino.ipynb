{
  "nbformat": 4,
  "nbformat_minor": 0,
  "metadata": {
    "colab": {
      "provenance": [],
      "authorship_tag": "ABX9TyOWTmh8UbgFX/k5zMqffWR4",
      "include_colab_link": true
    },
    "kernelspec": {
      "name": "python3",
      "display_name": "Python 3"
    },
    "language_info": {
      "name": "python"
    },
    "widgets": {
      "application/vnd.jupyter.widget-state+json": {
        "38fc43ac2bf3454984c0fa031b679cae": {
          "model_module": "@jupyter-widgets/controls",
          "model_name": "HBoxModel",
          "model_module_version": "1.5.0",
          "state": {
            "_dom_classes": [],
            "_model_module": "@jupyter-widgets/controls",
            "_model_module_version": "1.5.0",
            "_model_name": "HBoxModel",
            "_view_count": null,
            "_view_module": "@jupyter-widgets/controls",
            "_view_module_version": "1.5.0",
            "_view_name": "HBoxView",
            "box_style": "",
            "children": [
              "IPY_MODEL_45063dd8e7c442a28e6a18b3430bcccd",
              "IPY_MODEL_901eb1ba33114017afc1f632760716c8",
              "IPY_MODEL_d4e4b366200e47f5bb1b5f1dbd760d60"
            ],
            "layout": "IPY_MODEL_eabac83fb40643ac974b2c4b117937ad"
          }
        },
        "45063dd8e7c442a28e6a18b3430bcccd": {
          "model_module": "@jupyter-widgets/controls",
          "model_name": "HTMLModel",
          "model_module_version": "1.5.0",
          "state": {
            "_dom_classes": [],
            "_model_module": "@jupyter-widgets/controls",
            "_model_module_version": "1.5.0",
            "_model_name": "HTMLModel",
            "_view_count": null,
            "_view_module": "@jupyter-widgets/controls",
            "_view_module_version": "1.5.0",
            "_view_name": "HTMLView",
            "description": "",
            "description_tooltip": null,
            "layout": "IPY_MODEL_3e52ae9369124379aa513a74b272a7c8",
            "placeholder": "​",
            "style": "IPY_MODEL_a5050edb30344bc0b3c7932c3322e6a5",
            "value": "Downloading preprocessor_config.json: 100%"
          }
        },
        "901eb1ba33114017afc1f632760716c8": {
          "model_module": "@jupyter-widgets/controls",
          "model_name": "FloatProgressModel",
          "model_module_version": "1.5.0",
          "state": {
            "_dom_classes": [],
            "_model_module": "@jupyter-widgets/controls",
            "_model_module_version": "1.5.0",
            "_model_name": "FloatProgressModel",
            "_view_count": null,
            "_view_module": "@jupyter-widgets/controls",
            "_view_module_version": "1.5.0",
            "_view_name": "ProgressView",
            "bar_style": "success",
            "description": "",
            "description_tooltip": null,
            "layout": "IPY_MODEL_2fd8e3cec4d2497b83c9b6a0d4533362",
            "max": 244,
            "min": 0,
            "orientation": "horizontal",
            "style": "IPY_MODEL_85e9b501dbb14b659b1cea303b552c00",
            "value": 244
          }
        },
        "d4e4b366200e47f5bb1b5f1dbd760d60": {
          "model_module": "@jupyter-widgets/controls",
          "model_name": "HTMLModel",
          "model_module_version": "1.5.0",
          "state": {
            "_dom_classes": [],
            "_model_module": "@jupyter-widgets/controls",
            "_model_module_version": "1.5.0",
            "_model_name": "HTMLModel",
            "_view_count": null,
            "_view_module": "@jupyter-widgets/controls",
            "_view_module_version": "1.5.0",
            "_view_name": "HTMLView",
            "description": "",
            "description_tooltip": null,
            "layout": "IPY_MODEL_1bb8f01bb54b4f81aff12cdbf22e020f",
            "placeholder": "​",
            "style": "IPY_MODEL_c4357d2b77a144a485ceaeffd266dac2",
            "value": " 244/244 [00:00&lt;00:00, 5.79kB/s]"
          }
        },
        "eabac83fb40643ac974b2c4b117937ad": {
          "model_module": "@jupyter-widgets/base",
          "model_name": "LayoutModel",
          "model_module_version": "1.2.0",
          "state": {
            "_model_module": "@jupyter-widgets/base",
            "_model_module_version": "1.2.0",
            "_model_name": "LayoutModel",
            "_view_count": null,
            "_view_module": "@jupyter-widgets/base",
            "_view_module_version": "1.2.0",
            "_view_name": "LayoutView",
            "align_content": null,
            "align_items": null,
            "align_self": null,
            "border": null,
            "bottom": null,
            "display": null,
            "flex": null,
            "flex_flow": null,
            "grid_area": null,
            "grid_auto_columns": null,
            "grid_auto_flow": null,
            "grid_auto_rows": null,
            "grid_column": null,
            "grid_gap": null,
            "grid_row": null,
            "grid_template_areas": null,
            "grid_template_columns": null,
            "grid_template_rows": null,
            "height": null,
            "justify_content": null,
            "justify_items": null,
            "left": null,
            "margin": null,
            "max_height": null,
            "max_width": null,
            "min_height": null,
            "min_width": null,
            "object_fit": null,
            "object_position": null,
            "order": null,
            "overflow": null,
            "overflow_x": null,
            "overflow_y": null,
            "padding": null,
            "right": null,
            "top": null,
            "visibility": null,
            "width": null
          }
        },
        "3e52ae9369124379aa513a74b272a7c8": {
          "model_module": "@jupyter-widgets/base",
          "model_name": "LayoutModel",
          "model_module_version": "1.2.0",
          "state": {
            "_model_module": "@jupyter-widgets/base",
            "_model_module_version": "1.2.0",
            "_model_name": "LayoutModel",
            "_view_count": null,
            "_view_module": "@jupyter-widgets/base",
            "_view_module_version": "1.2.0",
            "_view_name": "LayoutView",
            "align_content": null,
            "align_items": null,
            "align_self": null,
            "border": null,
            "bottom": null,
            "display": null,
            "flex": null,
            "flex_flow": null,
            "grid_area": null,
            "grid_auto_columns": null,
            "grid_auto_flow": null,
            "grid_auto_rows": null,
            "grid_column": null,
            "grid_gap": null,
            "grid_row": null,
            "grid_template_areas": null,
            "grid_template_columns": null,
            "grid_template_rows": null,
            "height": null,
            "justify_content": null,
            "justify_items": null,
            "left": null,
            "margin": null,
            "max_height": null,
            "max_width": null,
            "min_height": null,
            "min_width": null,
            "object_fit": null,
            "object_position": null,
            "order": null,
            "overflow": null,
            "overflow_x": null,
            "overflow_y": null,
            "padding": null,
            "right": null,
            "top": null,
            "visibility": null,
            "width": null
          }
        },
        "a5050edb30344bc0b3c7932c3322e6a5": {
          "model_module": "@jupyter-widgets/controls",
          "model_name": "DescriptionStyleModel",
          "model_module_version": "1.5.0",
          "state": {
            "_model_module": "@jupyter-widgets/controls",
            "_model_module_version": "1.5.0",
            "_model_name": "DescriptionStyleModel",
            "_view_count": null,
            "_view_module": "@jupyter-widgets/base",
            "_view_module_version": "1.2.0",
            "_view_name": "StyleView",
            "description_width": ""
          }
        },
        "2fd8e3cec4d2497b83c9b6a0d4533362": {
          "model_module": "@jupyter-widgets/base",
          "model_name": "LayoutModel",
          "model_module_version": "1.2.0",
          "state": {
            "_model_module": "@jupyter-widgets/base",
            "_model_module_version": "1.2.0",
            "_model_name": "LayoutModel",
            "_view_count": null,
            "_view_module": "@jupyter-widgets/base",
            "_view_module_version": "1.2.0",
            "_view_name": "LayoutView",
            "align_content": null,
            "align_items": null,
            "align_self": null,
            "border": null,
            "bottom": null,
            "display": null,
            "flex": null,
            "flex_flow": null,
            "grid_area": null,
            "grid_auto_columns": null,
            "grid_auto_flow": null,
            "grid_auto_rows": null,
            "grid_column": null,
            "grid_gap": null,
            "grid_row": null,
            "grid_template_areas": null,
            "grid_template_columns": null,
            "grid_template_rows": null,
            "height": null,
            "justify_content": null,
            "justify_items": null,
            "left": null,
            "margin": null,
            "max_height": null,
            "max_width": null,
            "min_height": null,
            "min_width": null,
            "object_fit": null,
            "object_position": null,
            "order": null,
            "overflow": null,
            "overflow_x": null,
            "overflow_y": null,
            "padding": null,
            "right": null,
            "top": null,
            "visibility": null,
            "width": null
          }
        },
        "85e9b501dbb14b659b1cea303b552c00": {
          "model_module": "@jupyter-widgets/controls",
          "model_name": "ProgressStyleModel",
          "model_module_version": "1.5.0",
          "state": {
            "_model_module": "@jupyter-widgets/controls",
            "_model_module_version": "1.5.0",
            "_model_name": "ProgressStyleModel",
            "_view_count": null,
            "_view_module": "@jupyter-widgets/base",
            "_view_module_version": "1.2.0",
            "_view_name": "StyleView",
            "bar_color": null,
            "description_width": ""
          }
        },
        "1bb8f01bb54b4f81aff12cdbf22e020f": {
          "model_module": "@jupyter-widgets/base",
          "model_name": "LayoutModel",
          "model_module_version": "1.2.0",
          "state": {
            "_model_module": "@jupyter-widgets/base",
            "_model_module_version": "1.2.0",
            "_model_name": "LayoutModel",
            "_view_count": null,
            "_view_module": "@jupyter-widgets/base",
            "_view_module_version": "1.2.0",
            "_view_name": "LayoutView",
            "align_content": null,
            "align_items": null,
            "align_self": null,
            "border": null,
            "bottom": null,
            "display": null,
            "flex": null,
            "flex_flow": null,
            "grid_area": null,
            "grid_auto_columns": null,
            "grid_auto_flow": null,
            "grid_auto_rows": null,
            "grid_column": null,
            "grid_gap": null,
            "grid_row": null,
            "grid_template_areas": null,
            "grid_template_columns": null,
            "grid_template_rows": null,
            "height": null,
            "justify_content": null,
            "justify_items": null,
            "left": null,
            "margin": null,
            "max_height": null,
            "max_width": null,
            "min_height": null,
            "min_width": null,
            "object_fit": null,
            "object_position": null,
            "order": null,
            "overflow": null,
            "overflow_x": null,
            "overflow_y": null,
            "padding": null,
            "right": null,
            "top": null,
            "visibility": null,
            "width": null
          }
        },
        "c4357d2b77a144a485ceaeffd266dac2": {
          "model_module": "@jupyter-widgets/controls",
          "model_name": "DescriptionStyleModel",
          "model_module_version": "1.5.0",
          "state": {
            "_model_module": "@jupyter-widgets/controls",
            "_model_module_version": "1.5.0",
            "_model_name": "DescriptionStyleModel",
            "_view_count": null,
            "_view_module": "@jupyter-widgets/base",
            "_view_module_version": "1.2.0",
            "_view_name": "StyleView",
            "description_width": ""
          }
        },
        "f64ad1ca426e45f993073fcacd2fb491": {
          "model_module": "@jupyter-widgets/controls",
          "model_name": "HBoxModel",
          "model_module_version": "1.5.0",
          "state": {
            "_dom_classes": [],
            "_model_module": "@jupyter-widgets/controls",
            "_model_module_version": "1.5.0",
            "_model_name": "HBoxModel",
            "_view_count": null,
            "_view_module": "@jupyter-widgets/controls",
            "_view_module_version": "1.5.0",
            "_view_name": "HBoxView",
            "box_style": "",
            "children": [
              "IPY_MODEL_18644b62db4e48ffab5d88ce2dc19a5c",
              "IPY_MODEL_e4b4fdc4285f4f2685ff6433ce20167e",
              "IPY_MODEL_1ffeb6c3b4504d04a6108cca06871c64"
            ],
            "layout": "IPY_MODEL_b4c066acdc314ce28174509df91af7ce"
          }
        },
        "18644b62db4e48ffab5d88ce2dc19a5c": {
          "model_module": "@jupyter-widgets/controls",
          "model_name": "HTMLModel",
          "model_module_version": "1.5.0",
          "state": {
            "_dom_classes": [],
            "_model_module": "@jupyter-widgets/controls",
            "_model_module_version": "1.5.0",
            "_model_name": "HTMLModel",
            "_view_count": null,
            "_view_module": "@jupyter-widgets/controls",
            "_view_module_version": "1.5.0",
            "_view_name": "HTMLView",
            "description": "",
            "description_tooltip": null,
            "layout": "IPY_MODEL_1a2301d7352f4a489e53dfd4b729018a",
            "placeholder": "​",
            "style": "IPY_MODEL_01e87befd12948238f1a029863141b79",
            "value": "Downloading config.json: 100%"
          }
        },
        "e4b4fdc4285f4f2685ff6433ce20167e": {
          "model_module": "@jupyter-widgets/controls",
          "model_name": "FloatProgressModel",
          "model_module_version": "1.5.0",
          "state": {
            "_dom_classes": [],
            "_model_module": "@jupyter-widgets/controls",
            "_model_module_version": "1.5.0",
            "_model_name": "FloatProgressModel",
            "_view_count": null,
            "_view_module": "@jupyter-widgets/controls",
            "_view_module_version": "1.5.0",
            "_view_name": "ProgressView",
            "bar_style": "success",
            "description": "",
            "description_tooltip": null,
            "layout": "IPY_MODEL_d83dbde2e80d42d3b252aa4cebaf647b",
            "max": 454,
            "min": 0,
            "orientation": "horizontal",
            "style": "IPY_MODEL_62658c1551ab4dca878aaaaec3e4bba4",
            "value": 454
          }
        },
        "1ffeb6c3b4504d04a6108cca06871c64": {
          "model_module": "@jupyter-widgets/controls",
          "model_name": "HTMLModel",
          "model_module_version": "1.5.0",
          "state": {
            "_dom_classes": [],
            "_model_module": "@jupyter-widgets/controls",
            "_model_module_version": "1.5.0",
            "_model_name": "HTMLModel",
            "_view_count": null,
            "_view_module": "@jupyter-widgets/controls",
            "_view_module_version": "1.5.0",
            "_view_name": "HTMLView",
            "description": "",
            "description_tooltip": null,
            "layout": "IPY_MODEL_ef51543398914900a5f7c5176db2b6d4",
            "placeholder": "​",
            "style": "IPY_MODEL_56cbfc9c20e74f82abcec2fe6b3296d7",
            "value": " 454/454 [00:00&lt;00:00, 7.27kB/s]"
          }
        },
        "b4c066acdc314ce28174509df91af7ce": {
          "model_module": "@jupyter-widgets/base",
          "model_name": "LayoutModel",
          "model_module_version": "1.2.0",
          "state": {
            "_model_module": "@jupyter-widgets/base",
            "_model_module_version": "1.2.0",
            "_model_name": "LayoutModel",
            "_view_count": null,
            "_view_module": "@jupyter-widgets/base",
            "_view_module_version": "1.2.0",
            "_view_name": "LayoutView",
            "align_content": null,
            "align_items": null,
            "align_self": null,
            "border": null,
            "bottom": null,
            "display": null,
            "flex": null,
            "flex_flow": null,
            "grid_area": null,
            "grid_auto_columns": null,
            "grid_auto_flow": null,
            "grid_auto_rows": null,
            "grid_column": null,
            "grid_gap": null,
            "grid_row": null,
            "grid_template_areas": null,
            "grid_template_columns": null,
            "grid_template_rows": null,
            "height": null,
            "justify_content": null,
            "justify_items": null,
            "left": null,
            "margin": null,
            "max_height": null,
            "max_width": null,
            "min_height": null,
            "min_width": null,
            "object_fit": null,
            "object_position": null,
            "order": null,
            "overflow": null,
            "overflow_x": null,
            "overflow_y": null,
            "padding": null,
            "right": null,
            "top": null,
            "visibility": null,
            "width": null
          }
        },
        "1a2301d7352f4a489e53dfd4b729018a": {
          "model_module": "@jupyter-widgets/base",
          "model_name": "LayoutModel",
          "model_module_version": "1.2.0",
          "state": {
            "_model_module": "@jupyter-widgets/base",
            "_model_module_version": "1.2.0",
            "_model_name": "LayoutModel",
            "_view_count": null,
            "_view_module": "@jupyter-widgets/base",
            "_view_module_version": "1.2.0",
            "_view_name": "LayoutView",
            "align_content": null,
            "align_items": null,
            "align_self": null,
            "border": null,
            "bottom": null,
            "display": null,
            "flex": null,
            "flex_flow": null,
            "grid_area": null,
            "grid_auto_columns": null,
            "grid_auto_flow": null,
            "grid_auto_rows": null,
            "grid_column": null,
            "grid_gap": null,
            "grid_row": null,
            "grid_template_areas": null,
            "grid_template_columns": null,
            "grid_template_rows": null,
            "height": null,
            "justify_content": null,
            "justify_items": null,
            "left": null,
            "margin": null,
            "max_height": null,
            "max_width": null,
            "min_height": null,
            "min_width": null,
            "object_fit": null,
            "object_position": null,
            "order": null,
            "overflow": null,
            "overflow_x": null,
            "overflow_y": null,
            "padding": null,
            "right": null,
            "top": null,
            "visibility": null,
            "width": null
          }
        },
        "01e87befd12948238f1a029863141b79": {
          "model_module": "@jupyter-widgets/controls",
          "model_name": "DescriptionStyleModel",
          "model_module_version": "1.5.0",
          "state": {
            "_model_module": "@jupyter-widgets/controls",
            "_model_module_version": "1.5.0",
            "_model_name": "DescriptionStyleModel",
            "_view_count": null,
            "_view_module": "@jupyter-widgets/base",
            "_view_module_version": "1.2.0",
            "_view_name": "StyleView",
            "description_width": ""
          }
        },
        "d83dbde2e80d42d3b252aa4cebaf647b": {
          "model_module": "@jupyter-widgets/base",
          "model_name": "LayoutModel",
          "model_module_version": "1.2.0",
          "state": {
            "_model_module": "@jupyter-widgets/base",
            "_model_module_version": "1.2.0",
            "_model_name": "LayoutModel",
            "_view_count": null,
            "_view_module": "@jupyter-widgets/base",
            "_view_module_version": "1.2.0",
            "_view_name": "LayoutView",
            "align_content": null,
            "align_items": null,
            "align_self": null,
            "border": null,
            "bottom": null,
            "display": null,
            "flex": null,
            "flex_flow": null,
            "grid_area": null,
            "grid_auto_columns": null,
            "grid_auto_flow": null,
            "grid_auto_rows": null,
            "grid_column": null,
            "grid_gap": null,
            "grid_row": null,
            "grid_template_areas": null,
            "grid_template_columns": null,
            "grid_template_rows": null,
            "height": null,
            "justify_content": null,
            "justify_items": null,
            "left": null,
            "margin": null,
            "max_height": null,
            "max_width": null,
            "min_height": null,
            "min_width": null,
            "object_fit": null,
            "object_position": null,
            "order": null,
            "overflow": null,
            "overflow_x": null,
            "overflow_y": null,
            "padding": null,
            "right": null,
            "top": null,
            "visibility": null,
            "width": null
          }
        },
        "62658c1551ab4dca878aaaaec3e4bba4": {
          "model_module": "@jupyter-widgets/controls",
          "model_name": "ProgressStyleModel",
          "model_module_version": "1.5.0",
          "state": {
            "_model_module": "@jupyter-widgets/controls",
            "_model_module_version": "1.5.0",
            "_model_name": "ProgressStyleModel",
            "_view_count": null,
            "_view_module": "@jupyter-widgets/base",
            "_view_module_version": "1.2.0",
            "_view_name": "StyleView",
            "bar_color": null,
            "description_width": ""
          }
        },
        "ef51543398914900a5f7c5176db2b6d4": {
          "model_module": "@jupyter-widgets/base",
          "model_name": "LayoutModel",
          "model_module_version": "1.2.0",
          "state": {
            "_model_module": "@jupyter-widgets/base",
            "_model_module_version": "1.2.0",
            "_model_name": "LayoutModel",
            "_view_count": null,
            "_view_module": "@jupyter-widgets/base",
            "_view_module_version": "1.2.0",
            "_view_name": "LayoutView",
            "align_content": null,
            "align_items": null,
            "align_self": null,
            "border": null,
            "bottom": null,
            "display": null,
            "flex": null,
            "flex_flow": null,
            "grid_area": null,
            "grid_auto_columns": null,
            "grid_auto_flow": null,
            "grid_auto_rows": null,
            "grid_column": null,
            "grid_gap": null,
            "grid_row": null,
            "grid_template_areas": null,
            "grid_template_columns": null,
            "grid_template_rows": null,
            "height": null,
            "justify_content": null,
            "justify_items": null,
            "left": null,
            "margin": null,
            "max_height": null,
            "max_width": null,
            "min_height": null,
            "min_width": null,
            "object_fit": null,
            "object_position": null,
            "order": null,
            "overflow": null,
            "overflow_x": null,
            "overflow_y": null,
            "padding": null,
            "right": null,
            "top": null,
            "visibility": null,
            "width": null
          }
        },
        "56cbfc9c20e74f82abcec2fe6b3296d7": {
          "model_module": "@jupyter-widgets/controls",
          "model_name": "DescriptionStyleModel",
          "model_module_version": "1.5.0",
          "state": {
            "_model_module": "@jupyter-widgets/controls",
            "_model_module_version": "1.5.0",
            "_model_name": "DescriptionStyleModel",
            "_view_count": null,
            "_view_module": "@jupyter-widgets/base",
            "_view_module_version": "1.2.0",
            "_view_name": "StyleView",
            "description_width": ""
          }
        },
        "087c19266325432cad066741f7c8873b": {
          "model_module": "@jupyter-widgets/controls",
          "model_name": "HBoxModel",
          "model_module_version": "1.5.0",
          "state": {
            "_dom_classes": [],
            "_model_module": "@jupyter-widgets/controls",
            "_model_module_version": "1.5.0",
            "_model_name": "HBoxModel",
            "_view_count": null,
            "_view_module": "@jupyter-widgets/controls",
            "_view_module_version": "1.5.0",
            "_view_name": "HBoxView",
            "box_style": "",
            "children": [
              "IPY_MODEL_1c8c61fef6584f1b81fb870e1861c724",
              "IPY_MODEL_cfea44c4d6ec421c976124a333a5dda4",
              "IPY_MODEL_3e6b751308cb425e8f0b9feffb6431d6"
            ],
            "layout": "IPY_MODEL_f0ec474a2cc246bda190017f1b8bb7c2"
          }
        },
        "1c8c61fef6584f1b81fb870e1861c724": {
          "model_module": "@jupyter-widgets/controls",
          "model_name": "HTMLModel",
          "model_module_version": "1.5.0",
          "state": {
            "_dom_classes": [],
            "_model_module": "@jupyter-widgets/controls",
            "_model_module_version": "1.5.0",
            "_model_name": "HTMLModel",
            "_view_count": null,
            "_view_module": "@jupyter-widgets/controls",
            "_view_module_version": "1.5.0",
            "_view_name": "HTMLView",
            "description": "",
            "description_tooltip": null,
            "layout": "IPY_MODEL_ce0b1d0874c042b3a075441e98fad72e",
            "placeholder": "​",
            "style": "IPY_MODEL_b5611056a78244ba99c44eb2cf731e48",
            "value": "Downloading pytorch_model.bin: 100%"
          }
        },
        "cfea44c4d6ec421c976124a333a5dda4": {
          "model_module": "@jupyter-widgets/controls",
          "model_name": "FloatProgressModel",
          "model_module_version": "1.5.0",
          "state": {
            "_dom_classes": [],
            "_model_module": "@jupyter-widgets/controls",
            "_model_module_version": "1.5.0",
            "_model_name": "FloatProgressModel",
            "_view_count": null,
            "_view_module": "@jupyter-widgets/controls",
            "_view_module_version": "1.5.0",
            "_view_name": "ProgressView",
            "bar_style": "success",
            "description": "",
            "description_tooltip": null,
            "layout": "IPY_MODEL_9dcafa6e506144cc946b467d55521e2d",
            "max": 343268597,
            "min": 0,
            "orientation": "horizontal",
            "style": "IPY_MODEL_a4f780e6fe6649adb2504ebc9288da85",
            "value": 343268597
          }
        },
        "3e6b751308cb425e8f0b9feffb6431d6": {
          "model_module": "@jupyter-widgets/controls",
          "model_name": "HTMLModel",
          "model_module_version": "1.5.0",
          "state": {
            "_dom_classes": [],
            "_model_module": "@jupyter-widgets/controls",
            "_model_module_version": "1.5.0",
            "_model_name": "HTMLModel",
            "_view_count": null,
            "_view_module": "@jupyter-widgets/controls",
            "_view_module_version": "1.5.0",
            "_view_name": "HTMLView",
            "description": "",
            "description_tooltip": null,
            "layout": "IPY_MODEL_cd4d6d0eb87f4ae9a9fd8e2c21a89935",
            "placeholder": "​",
            "style": "IPY_MODEL_76782bd6dec5429a81cc0cbe7b9e9ef6",
            "value": " 327M/327M [00:12&lt;00:00, 20.5MB/s]"
          }
        },
        "f0ec474a2cc246bda190017f1b8bb7c2": {
          "model_module": "@jupyter-widgets/base",
          "model_name": "LayoutModel",
          "model_module_version": "1.2.0",
          "state": {
            "_model_module": "@jupyter-widgets/base",
            "_model_module_version": "1.2.0",
            "_model_name": "LayoutModel",
            "_view_count": null,
            "_view_module": "@jupyter-widgets/base",
            "_view_module_version": "1.2.0",
            "_view_name": "LayoutView",
            "align_content": null,
            "align_items": null,
            "align_self": null,
            "border": null,
            "bottom": null,
            "display": null,
            "flex": null,
            "flex_flow": null,
            "grid_area": null,
            "grid_auto_columns": null,
            "grid_auto_flow": null,
            "grid_auto_rows": null,
            "grid_column": null,
            "grid_gap": null,
            "grid_row": null,
            "grid_template_areas": null,
            "grid_template_columns": null,
            "grid_template_rows": null,
            "height": null,
            "justify_content": null,
            "justify_items": null,
            "left": null,
            "margin": null,
            "max_height": null,
            "max_width": null,
            "min_height": null,
            "min_width": null,
            "object_fit": null,
            "object_position": null,
            "order": null,
            "overflow": null,
            "overflow_x": null,
            "overflow_y": null,
            "padding": null,
            "right": null,
            "top": null,
            "visibility": null,
            "width": null
          }
        },
        "ce0b1d0874c042b3a075441e98fad72e": {
          "model_module": "@jupyter-widgets/base",
          "model_name": "LayoutModel",
          "model_module_version": "1.2.0",
          "state": {
            "_model_module": "@jupyter-widgets/base",
            "_model_module_version": "1.2.0",
            "_model_name": "LayoutModel",
            "_view_count": null,
            "_view_module": "@jupyter-widgets/base",
            "_view_module_version": "1.2.0",
            "_view_name": "LayoutView",
            "align_content": null,
            "align_items": null,
            "align_self": null,
            "border": null,
            "bottom": null,
            "display": null,
            "flex": null,
            "flex_flow": null,
            "grid_area": null,
            "grid_auto_columns": null,
            "grid_auto_flow": null,
            "grid_auto_rows": null,
            "grid_column": null,
            "grid_gap": null,
            "grid_row": null,
            "grid_template_areas": null,
            "grid_template_columns": null,
            "grid_template_rows": null,
            "height": null,
            "justify_content": null,
            "justify_items": null,
            "left": null,
            "margin": null,
            "max_height": null,
            "max_width": null,
            "min_height": null,
            "min_width": null,
            "object_fit": null,
            "object_position": null,
            "order": null,
            "overflow": null,
            "overflow_x": null,
            "overflow_y": null,
            "padding": null,
            "right": null,
            "top": null,
            "visibility": null,
            "width": null
          }
        },
        "b5611056a78244ba99c44eb2cf731e48": {
          "model_module": "@jupyter-widgets/controls",
          "model_name": "DescriptionStyleModel",
          "model_module_version": "1.5.0",
          "state": {
            "_model_module": "@jupyter-widgets/controls",
            "_model_module_version": "1.5.0",
            "_model_name": "DescriptionStyleModel",
            "_view_count": null,
            "_view_module": "@jupyter-widgets/base",
            "_view_module_version": "1.2.0",
            "_view_name": "StyleView",
            "description_width": ""
          }
        },
        "9dcafa6e506144cc946b467d55521e2d": {
          "model_module": "@jupyter-widgets/base",
          "model_name": "LayoutModel",
          "model_module_version": "1.2.0",
          "state": {
            "_model_module": "@jupyter-widgets/base",
            "_model_module_version": "1.2.0",
            "_model_name": "LayoutModel",
            "_view_count": null,
            "_view_module": "@jupyter-widgets/base",
            "_view_module_version": "1.2.0",
            "_view_name": "LayoutView",
            "align_content": null,
            "align_items": null,
            "align_self": null,
            "border": null,
            "bottom": null,
            "display": null,
            "flex": null,
            "flex_flow": null,
            "grid_area": null,
            "grid_auto_columns": null,
            "grid_auto_flow": null,
            "grid_auto_rows": null,
            "grid_column": null,
            "grid_gap": null,
            "grid_row": null,
            "grid_template_areas": null,
            "grid_template_columns": null,
            "grid_template_rows": null,
            "height": null,
            "justify_content": null,
            "justify_items": null,
            "left": null,
            "margin": null,
            "max_height": null,
            "max_width": null,
            "min_height": null,
            "min_width": null,
            "object_fit": null,
            "object_position": null,
            "order": null,
            "overflow": null,
            "overflow_x": null,
            "overflow_y": null,
            "padding": null,
            "right": null,
            "top": null,
            "visibility": null,
            "width": null
          }
        },
        "a4f780e6fe6649adb2504ebc9288da85": {
          "model_module": "@jupyter-widgets/controls",
          "model_name": "ProgressStyleModel",
          "model_module_version": "1.5.0",
          "state": {
            "_model_module": "@jupyter-widgets/controls",
            "_model_module_version": "1.5.0",
            "_model_name": "ProgressStyleModel",
            "_view_count": null,
            "_view_module": "@jupyter-widgets/base",
            "_view_module_version": "1.2.0",
            "_view_name": "StyleView",
            "bar_color": null,
            "description_width": ""
          }
        },
        "cd4d6d0eb87f4ae9a9fd8e2c21a89935": {
          "model_module": "@jupyter-widgets/base",
          "model_name": "LayoutModel",
          "model_module_version": "1.2.0",
          "state": {
            "_model_module": "@jupyter-widgets/base",
            "_model_module_version": "1.2.0",
            "_model_name": "LayoutModel",
            "_view_count": null,
            "_view_module": "@jupyter-widgets/base",
            "_view_module_version": "1.2.0",
            "_view_name": "LayoutView",
            "align_content": null,
            "align_items": null,
            "align_self": null,
            "border": null,
            "bottom": null,
            "display": null,
            "flex": null,
            "flex_flow": null,
            "grid_area": null,
            "grid_auto_columns": null,
            "grid_auto_flow": null,
            "grid_auto_rows": null,
            "grid_column": null,
            "grid_gap": null,
            "grid_row": null,
            "grid_template_areas": null,
            "grid_template_columns": null,
            "grid_template_rows": null,
            "height": null,
            "justify_content": null,
            "justify_items": null,
            "left": null,
            "margin": null,
            "max_height": null,
            "max_width": null,
            "min_height": null,
            "min_width": null,
            "object_fit": null,
            "object_position": null,
            "order": null,
            "overflow": null,
            "overflow_x": null,
            "overflow_y": null,
            "padding": null,
            "right": null,
            "top": null,
            "visibility": null,
            "width": null
          }
        },
        "76782bd6dec5429a81cc0cbe7b9e9ef6": {
          "model_module": "@jupyter-widgets/controls",
          "model_name": "DescriptionStyleModel",
          "model_module_version": "1.5.0",
          "state": {
            "_model_module": "@jupyter-widgets/controls",
            "_model_module_version": "1.5.0",
            "_model_name": "DescriptionStyleModel",
            "_view_count": null,
            "_view_module": "@jupyter-widgets/base",
            "_view_module_version": "1.2.0",
            "_view_name": "StyleView",
            "description_width": ""
          }
        }
      }
    }
  },
  "cells": [
    {
      "cell_type": "markdown",
      "metadata": {
        "id": "view-in-github",
        "colab_type": "text"
      },
      "source": [
        "<a href=\"https://colab.research.google.com/github/theostoican/Guided-Research/blob/main/gr_dino.ipynb\" target=\"_parent\"><img src=\"https://colab.research.google.com/assets/colab-badge.svg\" alt=\"Open In Colab\"/></a>"
      ]
    },
    {
      "cell_type": "code",
      "execution_count": null,
      "metadata": {
        "colab": {
          "base_uri": "https://localhost:8080/"
        },
        "id": "e_wKiCG13xmA",
        "outputId": "e0bd5477-d510-44a5-ce32-52e596a54b56"
      },
      "outputs": [
        {
          "output_type": "stream",
          "name": "stdout",
          "text": [
            "Looking in indexes: https://pypi.org/simple, https://us-python.pkg.dev/colab-wheels/public/simple/\n",
            "Collecting transformers\n",
            "  Downloading transformers-4.21.1-py3-none-any.whl (4.7 MB)\n",
            "\u001b[K     |████████████████████████████████| 4.7 MB 5.1 MB/s \n",
            "\u001b[?25hRequirement already satisfied: tqdm>=4.27 in /usr/local/lib/python3.7/dist-packages (from transformers) (4.64.0)\n",
            "Requirement already satisfied: importlib-metadata in /usr/local/lib/python3.7/dist-packages (from transformers) (4.12.0)\n",
            "Collecting tokenizers!=0.11.3,<0.13,>=0.11.1\n",
            "  Downloading tokenizers-0.12.1-cp37-cp37m-manylinux_2_12_x86_64.manylinux2010_x86_64.whl (6.6 MB)\n",
            "\u001b[K     |████████████████████████████████| 6.6 MB 47.3 MB/s \n",
            "\u001b[?25hRequirement already satisfied: numpy>=1.17 in /usr/local/lib/python3.7/dist-packages (from transformers) (1.21.6)\n",
            "Collecting huggingface-hub<1.0,>=0.1.0\n",
            "  Downloading huggingface_hub-0.8.1-py3-none-any.whl (101 kB)\n",
            "\u001b[K     |████████████████████████████████| 101 kB 10.9 MB/s \n",
            "\u001b[?25hRequirement already satisfied: packaging>=20.0 in /usr/local/lib/python3.7/dist-packages (from transformers) (21.3)\n",
            "Requirement already satisfied: filelock in /usr/local/lib/python3.7/dist-packages (from transformers) (3.8.0)\n",
            "Requirement already satisfied: requests in /usr/local/lib/python3.7/dist-packages (from transformers) (2.23.0)\n",
            "Requirement already satisfied: regex!=2019.12.17 in /usr/local/lib/python3.7/dist-packages (from transformers) (2022.6.2)\n",
            "Collecting pyyaml>=5.1\n",
            "  Downloading PyYAML-6.0-cp37-cp37m-manylinux_2_5_x86_64.manylinux1_x86_64.manylinux_2_12_x86_64.manylinux2010_x86_64.whl (596 kB)\n",
            "\u001b[K     |████████████████████████████████| 596 kB 47.4 MB/s \n",
            "\u001b[?25hRequirement already satisfied: typing-extensions>=3.7.4.3 in /usr/local/lib/python3.7/dist-packages (from huggingface-hub<1.0,>=0.1.0->transformers) (4.1.1)\n",
            "Requirement already satisfied: pyparsing!=3.0.5,>=2.0.2 in /usr/local/lib/python3.7/dist-packages (from packaging>=20.0->transformers) (3.0.9)\n",
            "Requirement already satisfied: zipp>=0.5 in /usr/local/lib/python3.7/dist-packages (from importlib-metadata->transformers) (3.8.1)\n",
            "Requirement already satisfied: certifi>=2017.4.17 in /usr/local/lib/python3.7/dist-packages (from requests->transformers) (2022.6.15)\n",
            "Requirement already satisfied: urllib3!=1.25.0,!=1.25.1,<1.26,>=1.21.1 in /usr/local/lib/python3.7/dist-packages (from requests->transformers) (1.24.3)\n",
            "Requirement already satisfied: chardet<4,>=3.0.2 in /usr/local/lib/python3.7/dist-packages (from requests->transformers) (3.0.4)\n",
            "Requirement already satisfied: idna<3,>=2.5 in /usr/local/lib/python3.7/dist-packages (from requests->transformers) (2.10)\n",
            "Installing collected packages: pyyaml, tokenizers, huggingface-hub, transformers\n",
            "  Attempting uninstall: pyyaml\n",
            "    Found existing installation: PyYAML 3.13\n",
            "    Uninstalling PyYAML-3.13:\n",
            "      Successfully uninstalled PyYAML-3.13\n",
            "Successfully installed huggingface-hub-0.8.1 pyyaml-6.0 tokenizers-0.12.1 transformers-4.21.1\n"
          ]
        }
      ],
      "source": [
        "!pip install transformers\n",
        "from transformers import ViTFeatureExtractor, ViTForImageClassification\n",
        "from transformers import AutoFeatureExtractor, ViTMAEForPreTraining\n",
        "from transformers import ViTModel\n",
        "\n",
        "from PIL import Image\n",
        "import requests\n",
        "import os\n",
        "import torch\n",
        "from torch import nn\n",
        "import torchvision\n",
        "import matplotlib.pyplot as plt\n",
        "\n",
        "\n",
        "url = 'http://images.cocodataset.org/val2017/000000039769.jpg'\n",
        "# image = Image.open(requests.get(url, stream=True).raw)\n",
        "image = Image.open('ball1.jpg')"
      ]
    },
    {
      "cell_type": "code",
      "source": [
        "feature_extractor = ViTFeatureExtractor.from_pretrained('facebook/dino-vitb16')\n",
        "model = ViTModel.from_pretrained('facebook/dino-vitb16', output_attentions=True)\n",
        "\n",
        "# feature_extractor = AutoFeatureExtractor.from_pretrained('facebook/vit-mae-base', output_attentions=True)\n",
        "# model = ViTMAEForPreTraining.from_pretrained('facebook/vit-mae-base')\n",
        "\n",
        "inputs = feature_extractor(images=image, return_tensors=\"pt\")\n",
        "print(inputs.pixel_values.shape)"
      ],
      "metadata": {
        "colab": {
          "base_uri": "https://localhost:8080/",
          "height": 184,
          "referenced_widgets": [
            "38fc43ac2bf3454984c0fa031b679cae",
            "45063dd8e7c442a28e6a18b3430bcccd",
            "901eb1ba33114017afc1f632760716c8",
            "d4e4b366200e47f5bb1b5f1dbd760d60",
            "eabac83fb40643ac974b2c4b117937ad",
            "3e52ae9369124379aa513a74b272a7c8",
            "a5050edb30344bc0b3c7932c3322e6a5",
            "2fd8e3cec4d2497b83c9b6a0d4533362",
            "85e9b501dbb14b659b1cea303b552c00",
            "1bb8f01bb54b4f81aff12cdbf22e020f",
            "c4357d2b77a144a485ceaeffd266dac2",
            "f64ad1ca426e45f993073fcacd2fb491",
            "18644b62db4e48ffab5d88ce2dc19a5c",
            "e4b4fdc4285f4f2685ff6433ce20167e",
            "1ffeb6c3b4504d04a6108cca06871c64",
            "b4c066acdc314ce28174509df91af7ce",
            "1a2301d7352f4a489e53dfd4b729018a",
            "01e87befd12948238f1a029863141b79",
            "d83dbde2e80d42d3b252aa4cebaf647b",
            "62658c1551ab4dca878aaaaec3e4bba4",
            "ef51543398914900a5f7c5176db2b6d4",
            "56cbfc9c20e74f82abcec2fe6b3296d7",
            "087c19266325432cad066741f7c8873b",
            "1c8c61fef6584f1b81fb870e1861c724",
            "cfea44c4d6ec421c976124a333a5dda4",
            "3e6b751308cb425e8f0b9feffb6431d6",
            "f0ec474a2cc246bda190017f1b8bb7c2",
            "ce0b1d0874c042b3a075441e98fad72e",
            "b5611056a78244ba99c44eb2cf731e48",
            "9dcafa6e506144cc946b467d55521e2d",
            "a4f780e6fe6649adb2504ebc9288da85",
            "cd4d6d0eb87f4ae9a9fd8e2c21a89935",
            "76782bd6dec5429a81cc0cbe7b9e9ef6"
          ]
        },
        "id": "hCsHem_qor5-",
        "outputId": "d97b832d-fc53-4a6e-aeb4-ed241981f55f"
      },
      "execution_count": null,
      "outputs": [
        {
          "output_type": "display_data",
          "data": {
            "text/plain": [
              "Downloading preprocessor_config.json:   0%|          | 0.00/244 [00:00<?, ?B/s]"
            ],
            "application/vnd.jupyter.widget-view+json": {
              "version_major": 2,
              "version_minor": 0,
              "model_id": "38fc43ac2bf3454984c0fa031b679cae"
            }
          },
          "metadata": {}
        },
        {
          "output_type": "display_data",
          "data": {
            "text/plain": [
              "Downloading config.json:   0%|          | 0.00/454 [00:00<?, ?B/s]"
            ],
            "application/vnd.jupyter.widget-view+json": {
              "version_major": 2,
              "version_minor": 0,
              "model_id": "f64ad1ca426e45f993073fcacd2fb491"
            }
          },
          "metadata": {}
        },
        {
          "output_type": "display_data",
          "data": {
            "text/plain": [
              "Downloading pytorch_model.bin:   0%|          | 0.00/327M [00:00<?, ?B/s]"
            ],
            "application/vnd.jupyter.widget-view+json": {
              "version_major": 2,
              "version_minor": 0,
              "model_id": "087c19266325432cad066741f7c8873b"
            }
          },
          "metadata": {}
        },
        {
          "output_type": "stream",
          "name": "stderr",
          "text": [
            "Some weights of ViTModel were not initialized from the model checkpoint at facebook/dino-vitb16 and are newly initialized: ['pooler.dense.bias', 'pooler.dense.weight']\n",
            "You should probably TRAIN this model on a down-stream task to be able to use it for predictions and inference.\n"
          ]
        },
        {
          "output_type": "stream",
          "name": "stdout",
          "text": [
            "torch.Size([1, 3, 224, 224])\n"
          ]
        }
      ]
    },
    {
      "cell_type": "code",
      "source": [
        "outputs = model(**inputs)"
      ],
      "metadata": {
        "id": "IHChaFW8oltf"
      },
      "execution_count": null,
      "outputs": []
    },
    {
      "cell_type": "code",
      "source": [
        "outputs = model(inputs.pixel_values)"
      ],
      "metadata": {
        "id": "tvu9DcS54CBi"
      },
      "execution_count": null,
      "outputs": []
    },
    {
      "cell_type": "code",
      "source": [
        "print(len(outputs.attentions))"
      ],
      "metadata": {
        "colab": {
          "base_uri": "https://localhost:8080/"
        },
        "id": "oHOPwnIpCNVK",
        "outputId": "1edf1251-b296-48a6-8f3c-a6a7d64bdca0"
      },
      "execution_count": null,
      "outputs": [
        {
          "output_type": "stream",
          "name": "stdout",
          "text": [
            "12\n"
          ]
        }
      ]
    },
    {
      "cell_type": "code",
      "source": [
        "print(outputs.attentions[-1].shape)"
      ],
      "metadata": {
        "colab": {
          "base_uri": "https://localhost:8080/"
        },
        "id": "jPy6CY1jPB4h",
        "outputId": "8d7a872f-936a-447f-bad3-853a544bf7c8"
      },
      "execution_count": null,
      "outputs": [
        {
          "output_type": "stream",
          "name": "stdout",
          "text": [
            "torch.Size([1, 12, 197, 197])\n"
          ]
        }
      ]
    },
    {
      "cell_type": "code",
      "source": [
        "print(outputs.attentions[-1][0][7][0])\n",
        "print(outputs.attentions[-1][0][7][100])\n",
        "print(outputs.attentions[-1][0][7][196])"
      ],
      "metadata": {
        "colab": {
          "base_uri": "https://localhost:8080/"
        },
        "id": "2mcmJMCgScav",
        "outputId": "98921862-cb15-4afd-b6c6-cb285539c8b0"
      },
      "execution_count": null,
      "outputs": [
        {
          "output_type": "stream",
          "name": "stdout",
          "text": [
            "tensor([3.8301e-01, 2.5268e-03, 4.9462e-03, 2.3344e-03, 1.5286e-03, 1.2671e-03,\n",
            "        1.3134e-03, 1.0374e-03, 3.9219e-03, 7.5686e-03, 6.9646e-04, 8.1386e-04,\n",
            "        7.8513e-04, 6.5994e-04, 9.1999e-04, 1.2134e-03, 3.4103e-03, 7.9474e-04,\n",
            "        3.5355e-04, 4.3332e-04, 1.6920e-04, 4.6929e-04, 2.7335e-03, 1.3403e-03,\n",
            "        1.8870e-04, 3.6438e-04, 3.1944e-04, 4.3322e-04, 7.5048e-04, 3.8758e-03,\n",
            "        3.1147e-03, 2.1784e-03, 2.9263e-03, 6.2633e-04, 3.1049e-03, 8.2182e-03,\n",
            "        1.0265e-02, 1.0824e-02, 4.9786e-03, 1.4225e-03, 2.8969e-04, 1.7273e-03,\n",
            "        2.9927e-03, 1.4243e-03, 1.0561e-03, 1.0598e-03, 7.5785e-04, 6.3571e-03,\n",
            "        1.8822e-02, 1.3318e-02, 3.2428e-02, 2.1203e-02, 2.1195e-02, 3.5006e-02,\n",
            "        1.8567e-03, 2.1059e-03, 2.0263e-03, 8.6566e-04, 9.3117e-04, 9.6254e-04,\n",
            "        1.9606e-03, 6.0618e-03, 4.6846e-03, 5.7893e-03, 8.8193e-03, 9.9019e-03,\n",
            "        9.5359e-03, 8.6814e-03, 3.4023e-03, 6.3596e-04, 1.0063e-03, 5.4717e-03,\n",
            "        6.9864e-03, 7.9783e-03, 3.3660e-04, 5.4371e-03, 1.0131e-02, 9.1827e-03,\n",
            "        1.2303e-02, 1.1197e-02, 8.8527e-03, 6.0793e-03, 7.0069e-04, 1.4180e-03,\n",
            "        2.4754e-03, 4.9030e-04, 5.8503e-04, 8.4801e-04, 1.0460e-03, 1.5269e-03,\n",
            "        1.9462e-03, 4.3388e-03, 1.2482e-02, 8.9426e-03, 1.8570e-03, 9.7973e-04,\n",
            "        1.1150e-03, 1.8029e-03, 1.8626e-03, 4.8823e-04, 3.7140e-04, 6.3939e-04,\n",
            "        9.0542e-04, 6.7767e-04, 3.5008e-03, 4.3874e-03, 5.2604e-03, 2.1954e-03,\n",
            "        1.0385e-03, 2.5934e-03, 2.5240e-03, 5.0967e-04, 1.5406e-03, 3.4719e-04,\n",
            "        7.6876e-04, 1.4441e-03, 9.6149e-04, 1.3172e-03, 1.1518e-03, 6.8456e-03,\n",
            "        4.2500e-03, 1.7258e-03, 8.5053e-04, 5.7645e-04, 6.6766e-04, 6.4468e-04,\n",
            "        7.8279e-04, 1.2205e-03, 5.9604e-04, 6.0153e-04, 8.5652e-04, 1.5466e-03,\n",
            "        1.9637e-03, 8.4196e-03, 7.4909e-03, 1.2122e-03, 6.0026e-04, 5.0515e-04,\n",
            "        3.8320e-04, 3.7834e-04, 8.7918e-04, 2.6837e-03, 1.5655e-03, 1.4702e-03,\n",
            "        3.1053e-03, 2.2962e-03, 4.6705e-03, 8.2876e-03, 7.1388e-03, 3.2975e-03,\n",
            "        1.9294e-03, 2.2410e-03, 2.3816e-03, 1.9363e-03, 3.2191e-03, 5.3538e-04,\n",
            "        3.4487e-04, 5.1442e-04, 4.6791e-04, 7.6074e-04, 1.7604e-03, 4.4489e-03,\n",
            "        7.1438e-03, 1.2749e-03, 5.4956e-04, 4.7072e-04, 3.9127e-04, 5.8077e-04,\n",
            "        8.5058e-04, 2.6388e-04, 2.0625e-04, 2.1267e-04, 2.3318e-04, 3.0340e-04,\n",
            "        1.2662e-03, 2.6489e-03, 3.2650e-03, 8.4157e-04, 5.6291e-04, 3.2283e-04,\n",
            "        2.3021e-04, 1.9238e-04, 1.7983e-03, 2.4878e-04, 1.9660e-04, 2.1553e-04,\n",
            "        2.3855e-04, 4.8355e-04, 2.8048e-03, 2.1155e-03, 3.4955e-03, 5.4633e-04,\n",
            "        1.1643e-03, 2.6178e-04, 2.3489e-04, 2.4802e-04, 3.8326e-04],\n",
            "       grad_fn=<SelectBackward0>)\n",
            "tensor([0.0254, 0.0089, 0.0084, 0.0047, 0.0050, 0.0049, 0.0048, 0.0041, 0.0084,\n",
            "        0.0105, 0.0030, 0.0034, 0.0033, 0.0030, 0.0051, 0.0041, 0.0059, 0.0027,\n",
            "        0.0025, 0.0029, 0.0006, 0.0008, 0.0020, 0.0011, 0.0006, 0.0025, 0.0022,\n",
            "        0.0025, 0.0034, 0.0097, 0.0079, 0.0069, 0.0090, 0.0020, 0.0039, 0.0052,\n",
            "        0.0050, 0.0052, 0.0026, 0.0011, 0.0018, 0.0047, 0.0043, 0.0072, 0.0038,\n",
            "        0.0060, 0.0010, 0.0087, 0.0058, 0.0034, 0.0070, 0.0046, 0.0038, 0.0049,\n",
            "        0.0015, 0.0051, 0.0063, 0.0070, 0.0087, 0.0055, 0.0027, 0.0108, 0.0118,\n",
            "        0.0126, 0.0127, 0.0142, 0.0155, 0.0125, 0.0050, 0.0035, 0.0068, 0.0129,\n",
            "        0.0144, 0.0157, 0.0008, 0.0058, 0.0044, 0.0059, 0.0106, 0.0077, 0.0056,\n",
            "        0.0037, 0.0014, 0.0050, 0.0113, 0.0048, 0.0065, 0.0070, 0.0047, 0.0031,\n",
            "        0.0043, 0.0069, 0.0193, 0.0129, 0.0046, 0.0045, 0.0051, 0.0042, 0.0078,\n",
            "        0.0044, 0.0033, 0.0044, 0.0040, 0.0032, 0.0056, 0.0047, 0.0091, 0.0067,\n",
            "        0.0049, 0.0065, 0.0051, 0.0037, 0.0067, 0.0029, 0.0041, 0.0064, 0.0042,\n",
            "        0.0051, 0.0039, 0.0057, 0.0091, 0.0048, 0.0022, 0.0031, 0.0033, 0.0032,\n",
            "        0.0041, 0.0046, 0.0033, 0.0034, 0.0046, 0.0048, 0.0048, 0.0080, 0.0186,\n",
            "        0.0056, 0.0026, 0.0028, 0.0020, 0.0024, 0.0044, 0.0075, 0.0056, 0.0044,\n",
            "        0.0063, 0.0101, 0.0076, 0.0127, 0.0102, 0.0051, 0.0037, 0.0044, 0.0052,\n",
            "        0.0048, 0.0058, 0.0036, 0.0019, 0.0029, 0.0023, 0.0030, 0.0022, 0.0043,\n",
            "        0.0066, 0.0031, 0.0022, 0.0024, 0.0022, 0.0025, 0.0022, 0.0016, 0.0013,\n",
            "        0.0013, 0.0013, 0.0012, 0.0015, 0.0032, 0.0040, 0.0021, 0.0021, 0.0016,\n",
            "        0.0012, 0.0011, 0.0035, 0.0014, 0.0012, 0.0012, 0.0014, 0.0012, 0.0024,\n",
            "        0.0035, 0.0041, 0.0018, 0.0031, 0.0012, 0.0011, 0.0014, 0.0013],\n",
            "       grad_fn=<SelectBackward0>)\n",
            "tensor([0.0372, 0.0080, 0.0085, 0.0053, 0.0047, 0.0047, 0.0047, 0.0043, 0.0085,\n",
            "        0.0073, 0.0025, 0.0027, 0.0029, 0.0027, 0.0037, 0.0038, 0.0047, 0.0027,\n",
            "        0.0022, 0.0027, 0.0008, 0.0012, 0.0037, 0.0018, 0.0010, 0.0022, 0.0019,\n",
            "        0.0019, 0.0024, 0.0091, 0.0089, 0.0061, 0.0085, 0.0027, 0.0065, 0.0122,\n",
            "        0.0119, 0.0109, 0.0053, 0.0020, 0.0018, 0.0037, 0.0031, 0.0046, 0.0026,\n",
            "        0.0035, 0.0019, 0.0092, 0.0085, 0.0088, 0.0134, 0.0083, 0.0076, 0.0105,\n",
            "        0.0027, 0.0049, 0.0049, 0.0044, 0.0049, 0.0032, 0.0041, 0.0134, 0.0107,\n",
            "        0.0144, 0.0160, 0.0189, 0.0213, 0.0216, 0.0084, 0.0025, 0.0042, 0.0086,\n",
            "        0.0097, 0.0112, 0.0009, 0.0096, 0.0072, 0.0082, 0.0151, 0.0127, 0.0117,\n",
            "        0.0061, 0.0019, 0.0037, 0.0054, 0.0028, 0.0032, 0.0038, 0.0034, 0.0026,\n",
            "        0.0053, 0.0054, 0.0135, 0.0098, 0.0037, 0.0032, 0.0036, 0.0038, 0.0038,\n",
            "        0.0027, 0.0021, 0.0029, 0.0029, 0.0023, 0.0047, 0.0037, 0.0058, 0.0042,\n",
            "        0.0044, 0.0052, 0.0043, 0.0026, 0.0037, 0.0022, 0.0048, 0.0071, 0.0033,\n",
            "        0.0044, 0.0036, 0.0033, 0.0049, 0.0032, 0.0025, 0.0026, 0.0025, 0.0021,\n",
            "        0.0025, 0.0051, 0.0032, 0.0026, 0.0037, 0.0043, 0.0038, 0.0051, 0.0109,\n",
            "        0.0033, 0.0024, 0.0023, 0.0019, 0.0019, 0.0035, 0.0087, 0.0058, 0.0047,\n",
            "        0.0070, 0.0068, 0.0074, 0.0100, 0.0103, 0.0066, 0.0044, 0.0052, 0.0058,\n",
            "        0.0050, 0.0065, 0.0042, 0.0021, 0.0031, 0.0026, 0.0032, 0.0022, 0.0030,\n",
            "        0.0060, 0.0026, 0.0020, 0.0020, 0.0020, 0.0025, 0.0023, 0.0022, 0.0016,\n",
            "        0.0017, 0.0017, 0.0017, 0.0017, 0.0021, 0.0034, 0.0020, 0.0020, 0.0018,\n",
            "        0.0015, 0.0013, 0.0032, 0.0018, 0.0015, 0.0017, 0.0019, 0.0017, 0.0030,\n",
            "        0.0022, 0.0038, 0.0025, 0.0047, 0.0017, 0.0015, 0.0016, 0.0017],\n",
            "       grad_fn=<SelectBackward0>)\n"
          ]
        }
      ]
    },
    {
      "cell_type": "code",
      "source": [
        "attentions = outputs.attentions[-1].detach()\n",
        "\n",
        "nh = attentions.shape[1] # number of heads\n",
        "\n",
        "\n",
        "patch_size = 16\n",
        "print (inputs.pixel_values.shape)\n",
        "w, h = inputs.pixel_values.shape[-2] - inputs.pixel_values.shape[-2] % patch_size, inputs.pixel_values.shape[-1] - inputs.pixel_values.shape[-1] % patch_size\n",
        "inputs.pixel_values = inputs.pixel_values[:, :w, :h].unsqueeze(0)\n",
        "\n",
        "w_featmap = inputs.pixel_values.shape[-2] // patch_size\n",
        "h_featmap = inputs.pixel_values.shape[-1] // patch_size\n",
        "\n",
        "attentions = attentions[0, :, 0, 1:].reshape(nh, -1)\n",
        "\n",
        "attentions = attentions.reshape(nh, w_featmap, h_featmap)\n",
        "attentions = nn.functional.interpolate(attentions.unsqueeze(0), scale_factor=patch_size, mode=\"nearest\")[0].cpu().numpy()\n",
        "\n",
        "# save attentions heatmaps\n",
        "os.makedirs('maps', exist_ok=True)\n",
        "torchvision.utils.save_image(torchvision.utils.make_grid(inputs.pixel_values, normalize=True, scale_each=True),\n",
        "                             os.path.join('maps', \"img.png\"))\n",
        "for j in range(nh):\n",
        "    fname = os.path.join('maps', \"attn-head\" + str(j) + \".png\")\n",
        "    print(attentions[j].shape)\n",
        "    break\n",
        "    plt.imsave(fname=fname, arr=attentions[j], format='png')\n",
        "    print(f\"{fname} saved.\")"
      ],
      "metadata": {
        "colab": {
          "base_uri": "https://localhost:8080/"
        },
        "id": "KpjSvqm4PVdg",
        "outputId": "e29eabf8-a3af-4e64-d25f-aed1469da868"
      },
      "execution_count": null,
      "outputs": [
        {
          "output_type": "stream",
          "name": "stdout",
          "text": [
            "torch.Size([1, 3, 224, 224])\n",
            "(224, 224)\n"
          ]
        }
      ]
    },
    {
      "cell_type": "code",
      "source": [
        "print(outputs.keys())"
      ],
      "metadata": {
        "id": "JPpKbc2aVBFV",
        "colab": {
          "base_uri": "https://localhost:8080/"
        },
        "outputId": "08c12109-0114-44c8-91e5-9cbc878f38c0"
      },
      "execution_count": null,
      "outputs": [
        {
          "output_type": "stream",
          "name": "stdout",
          "text": [
            "odict_keys(['last_hidden_state', 'pooler_output', 'attentions'])\n"
          ]
        }
      ]
    },
    {
      "cell_type": "code",
      "source": [
        "print(outputs.last_hidden_state.shape)"
      ],
      "metadata": {
        "colab": {
          "base_uri": "https://localhost:8080/"
        },
        "id": "2y80RVaL2_Qo",
        "outputId": "6c8f3aee-704d-4a96-be20-639dded2c950"
      },
      "execution_count": null,
      "outputs": [
        {
          "output_type": "stream",
          "name": "stdout",
          "text": [
            "torch.Size([1, 197, 768])\n"
          ]
        }
      ]
    },
    {
      "cell_type": "code",
      "source": [],
      "metadata": {
        "id": "X5CtnMLw3LnW"
      },
      "execution_count": null,
      "outputs": []
    },
    {
      "cell_type": "code",
      "source": [],
      "metadata": {
        "id": "_47oUfpu6j_7"
      },
      "execution_count": null,
      "outputs": []
    }
  ]
}