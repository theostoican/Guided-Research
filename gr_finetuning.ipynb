{
  "nbformat": 4,
  "nbformat_minor": 0,
  "metadata": {
    "colab": {
      "provenance": [],
      "authorship_tag": "ABX9TyNmxDVbzwwUeTbuo2y6ZsnK",
      "include_colab_link": true
    },
    "kernelspec": {
      "name": "python3",
      "display_name": "Python 3"
    },
    "language_info": {
      "name": "python"
    },
    "accelerator": "GPU",
    "gpuClass": "standard"
  },
  "cells": [
    {
      "cell_type": "markdown",
      "metadata": {
        "id": "view-in-github",
        "colab_type": "text"
      },
      "source": [
        "<a href=\"https://colab.research.google.com/github/theostoican/Guided-Research/blob/main/gr_finetuning.ipynb\" target=\"_parent\"><img src=\"https://colab.research.google.com/assets/colab-badge.svg\" alt=\"Open In Colab\"/></a>"
      ]
    },
    {
      "cell_type": "code",
      "execution_count": 2,
      "metadata": {
        "colab": {
          "base_uri": "https://localhost:8080/"
        },
        "id": "A463KKCgOCVk",
        "outputId": "3fa01d7b-5e9a-41e6-fd7b-38bbaa8ff7b3"
      },
      "outputs": [
        {
          "output_type": "stream",
          "name": "stdout",
          "text": [
            "Looking in indexes: https://pypi.org/simple, https://us-python.pkg.dev/colab-wheels/public/simple/\n",
            "Collecting timm\n",
            "  Downloading timm-0.6.11-py3-none-any.whl (548 kB)\n",
            "\u001b[K     |████████████████████████████████| 548 kB 18.5 MB/s \n",
            "\u001b[?25hRequirement already satisfied: pyyaml in /usr/local/lib/python3.7/dist-packages (from timm) (6.0)\n",
            "Requirement already satisfied: torch>=1.7 in /usr/local/lib/python3.7/dist-packages (from timm) (1.12.1+cu113)\n",
            "Collecting huggingface-hub\n",
            "  Downloading huggingface_hub-0.10.1-py3-none-any.whl (163 kB)\n",
            "\u001b[K     |████████████████████████████████| 163 kB 61.8 MB/s \n",
            "\u001b[?25hRequirement already satisfied: torchvision in /usr/local/lib/python3.7/dist-packages (from timm) (0.13.1+cu113)\n",
            "Requirement already satisfied: typing-extensions in /usr/local/lib/python3.7/dist-packages (from torch>=1.7->timm) (4.1.1)\n",
            "Requirement already satisfied: requests in /usr/local/lib/python3.7/dist-packages (from huggingface-hub->timm) (2.23.0)\n",
            "Requirement already satisfied: tqdm in /usr/local/lib/python3.7/dist-packages (from huggingface-hub->timm) (4.64.1)\n",
            "Requirement already satisfied: filelock in /usr/local/lib/python3.7/dist-packages (from huggingface-hub->timm) (3.8.0)\n",
            "Requirement already satisfied: importlib-metadata in /usr/local/lib/python3.7/dist-packages (from huggingface-hub->timm) (5.0.0)\n",
            "Requirement already satisfied: packaging>=20.9 in /usr/local/lib/python3.7/dist-packages (from huggingface-hub->timm) (21.3)\n",
            "Requirement already satisfied: pyparsing!=3.0.5,>=2.0.2 in /usr/local/lib/python3.7/dist-packages (from packaging>=20.9->huggingface-hub->timm) (3.0.9)\n",
            "Requirement already satisfied: zipp>=0.5 in /usr/local/lib/python3.7/dist-packages (from importlib-metadata->huggingface-hub->timm) (3.9.0)\n",
            "Requirement already satisfied: urllib3!=1.25.0,!=1.25.1,<1.26,>=1.21.1 in /usr/local/lib/python3.7/dist-packages (from requests->huggingface-hub->timm) (1.24.3)\n",
            "Requirement already satisfied: certifi>=2017.4.17 in /usr/local/lib/python3.7/dist-packages (from requests->huggingface-hub->timm) (2022.9.24)\n",
            "Requirement already satisfied: idna<3,>=2.5 in /usr/local/lib/python3.7/dist-packages (from requests->huggingface-hub->timm) (2.10)\n",
            "Requirement already satisfied: chardet<4,>=3.0.2 in /usr/local/lib/python3.7/dist-packages (from requests->huggingface-hub->timm) (3.0.4)\n",
            "Requirement already satisfied: numpy in /usr/local/lib/python3.7/dist-packages (from torchvision->timm) (1.21.6)\n",
            "Requirement already satisfied: pillow!=8.3.*,>=5.3.0 in /usr/local/lib/python3.7/dist-packages (from torchvision->timm) (7.1.2)\n",
            "Installing collected packages: huggingface-hub, timm\n",
            "Successfully installed huggingface-hub-0.10.1 timm-0.6.11\n"
          ]
        },
        {
          "output_type": "stream",
          "name": "stderr",
          "text": [
            "Using cache found in /root/.cache/torch/hub/facebookresearch_deit_main\n"
          ]
        }
      ],
      "source": [
        "!pip install timm \n",
        "import torch\n",
        "\n",
        "device = torch.device(\"cuda\") if torch.cuda.is_available() else torch.device(\"cpu\")\n",
        "\n",
        "vitb16 = torch.hub.load('facebookresearch/deit:main', 'deit_base_patch16_224').to(device)"
      ]
    },
    {
      "cell_type": "code",
      "source": [
        "!pip install torchinfo\n",
        "from torchinfo import summary\n",
        "# summary(vitb16, (1, 3, 224, 224))\n",
        "vitb16.blocks"
      ],
      "metadata": {
        "colab": {
          "base_uri": "https://localhost:8080/"
        },
        "id": "t_IMxT-cQYxE",
        "outputId": "23a8bee9-5094-4c87-be7e-69e6a2b77707"
      },
      "execution_count": null,
      "outputs": [
        {
          "output_type": "stream",
          "name": "stdout",
          "text": [
            "Looking in indexes: https://pypi.org/simple, https://us-python.pkg.dev/colab-wheels/public/simple/\n",
            "Requirement already satisfied: torchinfo in /usr/local/lib/python3.7/dist-packages (1.7.0)\n"
          ]
        },
        {
          "output_type": "execute_result",
          "data": {
            "text/plain": [
              "ModuleList(\n",
              "  (0): Block(\n",
              "    (norm1): LayerNorm((768,), eps=1e-06, elementwise_affine=True)\n",
              "    (attn): Attention(\n",
              "      (qkv): Linear(in_features=768, out_features=2304, bias=True)\n",
              "      (attn_drop): Dropout(p=0.0, inplace=False)\n",
              "      (proj): Linear(in_features=768, out_features=768, bias=True)\n",
              "      (proj_drop): Dropout(p=0.0, inplace=False)\n",
              "    )\n",
              "    (drop_path): Identity()\n",
              "    (norm2): LayerNorm((768,), eps=1e-06, elementwise_affine=True)\n",
              "    (mlp): Mlp(\n",
              "      (fc1): Linear(in_features=768, out_features=3072, bias=True)\n",
              "      (act): GELU(approximate=none)\n",
              "      (fc2): Linear(in_features=3072, out_features=768, bias=True)\n",
              "      (drop): Dropout(p=0.0, inplace=False)\n",
              "    )\n",
              "  )\n",
              "  (1): Block(\n",
              "    (norm1): LayerNorm((768,), eps=1e-06, elementwise_affine=True)\n",
              "    (attn): Attention(\n",
              "      (qkv): Linear(in_features=768, out_features=2304, bias=True)\n",
              "      (attn_drop): Dropout(p=0.0, inplace=False)\n",
              "      (proj): Linear(in_features=768, out_features=768, bias=True)\n",
              "      (proj_drop): Dropout(p=0.0, inplace=False)\n",
              "    )\n",
              "    (drop_path): Identity()\n",
              "    (norm2): LayerNorm((768,), eps=1e-06, elementwise_affine=True)\n",
              "    (mlp): Mlp(\n",
              "      (fc1): Linear(in_features=768, out_features=3072, bias=True)\n",
              "      (act): GELU(approximate=none)\n",
              "      (fc2): Linear(in_features=3072, out_features=768, bias=True)\n",
              "      (drop): Dropout(p=0.0, inplace=False)\n",
              "    )\n",
              "  )\n",
              "  (2): Block(\n",
              "    (norm1): LayerNorm((768,), eps=1e-06, elementwise_affine=True)\n",
              "    (attn): Attention(\n",
              "      (qkv): Linear(in_features=768, out_features=2304, bias=True)\n",
              "      (attn_drop): Dropout(p=0.0, inplace=False)\n",
              "      (proj): Linear(in_features=768, out_features=768, bias=True)\n",
              "      (proj_drop): Dropout(p=0.0, inplace=False)\n",
              "    )\n",
              "    (drop_path): Identity()\n",
              "    (norm2): LayerNorm((768,), eps=1e-06, elementwise_affine=True)\n",
              "    (mlp): Mlp(\n",
              "      (fc1): Linear(in_features=768, out_features=3072, bias=True)\n",
              "      (act): GELU(approximate=none)\n",
              "      (fc2): Linear(in_features=3072, out_features=768, bias=True)\n",
              "      (drop): Dropout(p=0.0, inplace=False)\n",
              "    )\n",
              "  )\n",
              "  (3): Block(\n",
              "    (norm1): LayerNorm((768,), eps=1e-06, elementwise_affine=True)\n",
              "    (attn): Attention(\n",
              "      (qkv): Linear(in_features=768, out_features=2304, bias=True)\n",
              "      (attn_drop): Dropout(p=0.0, inplace=False)\n",
              "      (proj): Linear(in_features=768, out_features=768, bias=True)\n",
              "      (proj_drop): Dropout(p=0.0, inplace=False)\n",
              "    )\n",
              "    (drop_path): Identity()\n",
              "    (norm2): LayerNorm((768,), eps=1e-06, elementwise_affine=True)\n",
              "    (mlp): Mlp(\n",
              "      (fc1): Linear(in_features=768, out_features=3072, bias=True)\n",
              "      (act): GELU(approximate=none)\n",
              "      (fc2): Linear(in_features=3072, out_features=768, bias=True)\n",
              "      (drop): Dropout(p=0.0, inplace=False)\n",
              "    )\n",
              "  )\n",
              "  (4): Block(\n",
              "    (norm1): LayerNorm((768,), eps=1e-06, elementwise_affine=True)\n",
              "    (attn): Attention(\n",
              "      (qkv): Linear(in_features=768, out_features=2304, bias=True)\n",
              "      (attn_drop): Dropout(p=0.0, inplace=False)\n",
              "      (proj): Linear(in_features=768, out_features=768, bias=True)\n",
              "      (proj_drop): Dropout(p=0.0, inplace=False)\n",
              "    )\n",
              "    (drop_path): Identity()\n",
              "    (norm2): LayerNorm((768,), eps=1e-06, elementwise_affine=True)\n",
              "    (mlp): Mlp(\n",
              "      (fc1): Linear(in_features=768, out_features=3072, bias=True)\n",
              "      (act): GELU(approximate=none)\n",
              "      (fc2): Linear(in_features=3072, out_features=768, bias=True)\n",
              "      (drop): Dropout(p=0.0, inplace=False)\n",
              "    )\n",
              "  )\n",
              "  (5): Block(\n",
              "    (norm1): LayerNorm((768,), eps=1e-06, elementwise_affine=True)\n",
              "    (attn): Attention(\n",
              "      (qkv): Linear(in_features=768, out_features=2304, bias=True)\n",
              "      (attn_drop): Dropout(p=0.0, inplace=False)\n",
              "      (proj): Linear(in_features=768, out_features=768, bias=True)\n",
              "      (proj_drop): Dropout(p=0.0, inplace=False)\n",
              "    )\n",
              "    (drop_path): Identity()\n",
              "    (norm2): LayerNorm((768,), eps=1e-06, elementwise_affine=True)\n",
              "    (mlp): Mlp(\n",
              "      (fc1): Linear(in_features=768, out_features=3072, bias=True)\n",
              "      (act): GELU(approximate=none)\n",
              "      (fc2): Linear(in_features=3072, out_features=768, bias=True)\n",
              "      (drop): Dropout(p=0.0, inplace=False)\n",
              "    )\n",
              "  )\n",
              "  (6): Block(\n",
              "    (norm1): LayerNorm((768,), eps=1e-06, elementwise_affine=True)\n",
              "    (attn): Attention(\n",
              "      (qkv): Linear(in_features=768, out_features=2304, bias=True)\n",
              "      (attn_drop): Dropout(p=0.0, inplace=False)\n",
              "      (proj): Linear(in_features=768, out_features=768, bias=True)\n",
              "      (proj_drop): Dropout(p=0.0, inplace=False)\n",
              "    )\n",
              "    (drop_path): Identity()\n",
              "    (norm2): LayerNorm((768,), eps=1e-06, elementwise_affine=True)\n",
              "    (mlp): Mlp(\n",
              "      (fc1): Linear(in_features=768, out_features=3072, bias=True)\n",
              "      (act): GELU(approximate=none)\n",
              "      (fc2): Linear(in_features=3072, out_features=768, bias=True)\n",
              "      (drop): Dropout(p=0.0, inplace=False)\n",
              "    )\n",
              "  )\n",
              "  (7): Block(\n",
              "    (norm1): LayerNorm((768,), eps=1e-06, elementwise_affine=True)\n",
              "    (attn): Attention(\n",
              "      (qkv): Linear(in_features=768, out_features=2304, bias=True)\n",
              "      (attn_drop): Dropout(p=0.0, inplace=False)\n",
              "      (proj): Linear(in_features=768, out_features=768, bias=True)\n",
              "      (proj_drop): Dropout(p=0.0, inplace=False)\n",
              "    )\n",
              "    (drop_path): Identity()\n",
              "    (norm2): LayerNorm((768,), eps=1e-06, elementwise_affine=True)\n",
              "    (mlp): Mlp(\n",
              "      (fc1): Linear(in_features=768, out_features=3072, bias=True)\n",
              "      (act): GELU(approximate=none)\n",
              "      (fc2): Linear(in_features=3072, out_features=768, bias=True)\n",
              "      (drop): Dropout(p=0.0, inplace=False)\n",
              "    )\n",
              "  )\n",
              "  (8): Block(\n",
              "    (norm1): LayerNorm((768,), eps=1e-06, elementwise_affine=True)\n",
              "    (attn): Attention(\n",
              "      (qkv): Linear(in_features=768, out_features=2304, bias=True)\n",
              "      (attn_drop): Dropout(p=0.0, inplace=False)\n",
              "      (proj): Linear(in_features=768, out_features=768, bias=True)\n",
              "      (proj_drop): Dropout(p=0.0, inplace=False)\n",
              "    )\n",
              "    (drop_path): Identity()\n",
              "    (norm2): LayerNorm((768,), eps=1e-06, elementwise_affine=True)\n",
              "    (mlp): Mlp(\n",
              "      (fc1): Linear(in_features=768, out_features=3072, bias=True)\n",
              "      (act): GELU(approximate=none)\n",
              "      (fc2): Linear(in_features=3072, out_features=768, bias=True)\n",
              "      (drop): Dropout(p=0.0, inplace=False)\n",
              "    )\n",
              "  )\n",
              "  (9): Block(\n",
              "    (norm1): LayerNorm((768,), eps=1e-06, elementwise_affine=True)\n",
              "    (attn): Attention(\n",
              "      (qkv): Linear(in_features=768, out_features=2304, bias=True)\n",
              "      (attn_drop): Dropout(p=0.0, inplace=False)\n",
              "      (proj): Linear(in_features=768, out_features=768, bias=True)\n",
              "      (proj_drop): Dropout(p=0.0, inplace=False)\n",
              "    )\n",
              "    (drop_path): Identity()\n",
              "    (norm2): LayerNorm((768,), eps=1e-06, elementwise_affine=True)\n",
              "    (mlp): Mlp(\n",
              "      (fc1): Linear(in_features=768, out_features=3072, bias=True)\n",
              "      (act): GELU(approximate=none)\n",
              "      (fc2): Linear(in_features=3072, out_features=768, bias=True)\n",
              "      (drop): Dropout(p=0.0, inplace=False)\n",
              "    )\n",
              "  )\n",
              "  (10): Block(\n",
              "    (norm1): LayerNorm((768,), eps=1e-06, elementwise_affine=True)\n",
              "    (attn): Attention(\n",
              "      (qkv): Linear(in_features=768, out_features=2304, bias=True)\n",
              "      (attn_drop): Dropout(p=0.0, inplace=False)\n",
              "      (proj): Linear(in_features=768, out_features=768, bias=True)\n",
              "      (proj_drop): Dropout(p=0.0, inplace=False)\n",
              "    )\n",
              "    (drop_path): Identity()\n",
              "    (norm2): LayerNorm((768,), eps=1e-06, elementwise_affine=True)\n",
              "    (mlp): Mlp(\n",
              "      (fc1): Linear(in_features=768, out_features=3072, bias=True)\n",
              "      (act): GELU(approximate=none)\n",
              "      (fc2): Linear(in_features=3072, out_features=768, bias=True)\n",
              "      (drop): Dropout(p=0.0, inplace=False)\n",
              "    )\n",
              "  )\n",
              "  (11): Block(\n",
              "    (norm1): LayerNorm((768,), eps=1e-06, elementwise_affine=True)\n",
              "    (attn): Attention(\n",
              "      (qkv): Linear(in_features=768, out_features=2304, bias=True)\n",
              "      (attn_drop): Dropout(p=0.0, inplace=False)\n",
              "      (proj): Linear(in_features=768, out_features=768, bias=True)\n",
              "      (proj_drop): Dropout(p=0.0, inplace=False)\n",
              "    )\n",
              "    (drop_path): Identity()\n",
              "    (norm2): LayerNorm((768,), eps=1e-06, elementwise_affine=True)\n",
              "    (mlp): Mlp(\n",
              "      (fc1): Linear(in_features=768, out_features=3072, bias=True)\n",
              "      (act): GELU(approximate=none)\n",
              "      (fc2): Linear(in_features=3072, out_features=768, bias=True)\n",
              "      (drop): Dropout(p=0.0, inplace=False)\n",
              "    )\n",
              "  )\n",
              ")"
            ]
          },
          "metadata": {},
          "execution_count": 2
        }
      ]
    },
    {
      "cell_type": "code",
      "source": [
        "for param in vitb16.parameters():\n",
        "  param.required_grad = True\n"
      ],
      "metadata": {
        "id": "WLaLl0BQjSHT"
      },
      "execution_count": null,
      "outputs": []
    },
    {
      "cell_type": "code",
      "source": [
        "!pip install transformers\n",
        "from transformers import ViTFeatureExtractor\n",
        "from PIL import Image\n",
        "from torchvision import transforms as pth_transforms\n",
        "import os\n",
        "import torchvision\n",
        "\n",
        "feature_extractor = ViTFeatureExtractor.from_pretrained('facebook/dino-vitb16')\n",
        "\n",
        "def process_input(image):\n",
        "  patch_size = 16\n",
        "\n",
        "  transform = pth_transforms.Compose([\n",
        "          pth_transforms.Resize((480, 480)),\n",
        "          pth_transforms.ToTensor(),\n",
        "          pth_transforms.Normalize((0.485, 0.456, 0.406), (0.229, 0.224, 0.225)),\n",
        "      ])\n",
        "  image = transform(image)\n",
        "\n",
        "  w, h = image.shape[1] - image.shape[1] % patch_size, image.shape[2] - image.shape[2] % patch_size\n",
        "  image = image[:, :w, :h].unsqueeze(0).to(device)\n",
        "\n",
        "  return image\n",
        "\n",
        "def process_output(image):\n",
        "\n",
        "  transform = pth_transforms.Compose([\n",
        "          pth_transforms.Resize((901, 901)),\n",
        "          pth_transforms.ToTensor(),\n",
        "      ])\n",
        "  image = transform(image).to(device)\n",
        "\n",
        "  return image\n",
        "\n",
        "inputs = []\n",
        "labels = []\n",
        "\n",
        "for img_name in sorted(os.listdir(os.path.join('data', 'data'))):\n",
        "  img = Image.open(os.path.join('data', 'data', img_name))\n",
        "  input = process_input(img)\n",
        "  inputs.append(input)\n",
        "\n",
        "for img_name in sorted(os.listdir(os.path.join('data', 'labels'))):\n",
        "  img = Image.open(os.path.join('data', 'labels', img_name))\n",
        "  segmentation_map = process_output(img)\n",
        "  labels.append(segmentation_map)\n",
        "\n",
        "inputs = torch.stack(inputs).to(device)\n",
        "labels = torch.stack(labels).to(device)\n",
        "\n",
        "dataset = [(input, label) for (input, label) in zip(inputs, labels)]"
      ],
      "metadata": {
        "colab": {
          "base_uri": "https://localhost:8080/"
        },
        "id": "7CLNA8Izb0-y",
        "outputId": "2797ad9b-8669-4241-b6c2-2b2027d4ba66"
      },
      "execution_count": null,
      "outputs": [
        {
          "output_type": "stream",
          "name": "stdout",
          "text": [
            "Looking in indexes: https://pypi.org/simple, https://us-python.pkg.dev/colab-wheels/public/simple/\n",
            "Requirement already satisfied: transformers in /usr/local/lib/python3.7/dist-packages (4.21.1)\n",
            "Requirement already satisfied: numpy>=1.17 in /usr/local/lib/python3.7/dist-packages (from transformers) (1.21.6)\n",
            "Requirement already satisfied: filelock in /usr/local/lib/python3.7/dist-packages (from transformers) (3.8.0)\n",
            "Requirement already satisfied: tqdm>=4.27 in /usr/local/lib/python3.7/dist-packages (from transformers) (4.64.0)\n",
            "Requirement already satisfied: importlib-metadata in /usr/local/lib/python3.7/dist-packages (from transformers) (4.12.0)\n",
            "Requirement already satisfied: tokenizers!=0.11.3,<0.13,>=0.11.1 in /usr/local/lib/python3.7/dist-packages (from transformers) (0.12.1)\n",
            "Requirement already satisfied: huggingface-hub<1.0,>=0.1.0 in /usr/local/lib/python3.7/dist-packages (from transformers) (0.8.1)\n",
            "Requirement already satisfied: requests in /usr/local/lib/python3.7/dist-packages (from transformers) (2.23.0)\n",
            "Requirement already satisfied: pyyaml>=5.1 in /usr/local/lib/python3.7/dist-packages (from transformers) (6.0)\n",
            "Requirement already satisfied: packaging>=20.0 in /usr/local/lib/python3.7/dist-packages (from transformers) (21.3)\n",
            "Requirement already satisfied: regex!=2019.12.17 in /usr/local/lib/python3.7/dist-packages (from transformers) (2022.6.2)\n",
            "Requirement already satisfied: typing-extensions>=3.7.4.3 in /usr/local/lib/python3.7/dist-packages (from huggingface-hub<1.0,>=0.1.0->transformers) (4.1.1)\n",
            "Requirement already satisfied: pyparsing!=3.0.5,>=2.0.2 in /usr/local/lib/python3.7/dist-packages (from packaging>=20.0->transformers) (3.0.9)\n",
            "Requirement already satisfied: zipp>=0.5 in /usr/local/lib/python3.7/dist-packages (from importlib-metadata->transformers) (3.8.1)\n",
            "Requirement already satisfied: urllib3!=1.25.0,!=1.25.1,<1.26,>=1.21.1 in /usr/local/lib/python3.7/dist-packages (from requests->transformers) (1.24.3)\n",
            "Requirement already satisfied: certifi>=2017.4.17 in /usr/local/lib/python3.7/dist-packages (from requests->transformers) (2022.6.15)\n",
            "Requirement already satisfied: idna<3,>=2.5 in /usr/local/lib/python3.7/dist-packages (from requests->transformers) (2.10)\n",
            "Requirement already satisfied: chardet<4,>=3.0.2 in /usr/local/lib/python3.7/dist-packages (from requests->transformers) (3.0.4)\n"
          ]
        }
      ]
    },
    {
      "cell_type": "code",
      "source": [
        "import matplotlib.pyplot as plt\n",
        "import torchvision.transforms.functional as F\n",
        "plt.imshow(F.to_pil_image(labels[50].detach()))"
      ],
      "metadata": {
        "colab": {
          "base_uri": "https://localhost:8080/",
          "height": 286
        },
        "id": "0MVE9G1QvwMy",
        "outputId": "c5424c48-6477-477f-dcaa-07a1865fdd31"
      },
      "execution_count": null,
      "outputs": [
        {
          "output_type": "execute_result",
          "data": {
            "text/plain": [
              "<matplotlib.image.AxesImage at 0x7f62255f09d0>"
            ]
          },
          "metadata": {},
          "execution_count": 5
        },
        {
          "output_type": "display_data",
          "data": {
            "text/plain": [
              "<Figure size 432x288 with 1 Axes>"
            ],
            "image/png": "[encoded data removed]"
          },
          "metadata": {
            "needs_background": "light"
          }
        }
      ]
    },
    {
      "cell_type": "code",
      "source": [
        "output = vitb16(inputs[0])\n",
        "vitb16.get_last_selfattention(inputs[0].to(device)).shape"
      ],
      "metadata": {
        "colab": {
          "base_uri": "https://localhost:8080/"
        },
        "id": "Dw9GeQZG25xU",
        "outputId": "4939eaa5-a14b-46a7-a07b-29fa27f16f37"
      },
      "execution_count": null,
      "outputs": [
        {
          "output_type": "execute_result",
          "data": {
            "text/plain": [
              "torch.Size([1, 12, 901, 901])"
            ]
          },
          "metadata": {},
          "execution_count": 7
        }
      ]
    },
    {
      "cell_type": "code",
      "source": [
        "from torch import nn\n",
        "import matplotlib.pyplot as plt\n",
        "\n",
        "def save_attentions(inputs, attentions):\n",
        "  attentions = attentions.detach()\n",
        "\n",
        "  nh = attentions.shape[1] # number of heads\n",
        "\n",
        "\n",
        "  patch_size = 16\n",
        "  w, h = inputs.shape[-2] - inputs.shape[-2] % patch_size, inputs.shape[-1] - inputs.shape[-1] % patch_size\n",
        "  inputs = inputs[:, :w, :h].unsqueeze(0)\n",
        "\n",
        "  w_featmap = inputs.shape[-2] // patch_size\n",
        "  h_featmap = inputs.shape[-1] // patch_size\n",
        "\n",
        "  attentions = attentions[0, :, 0, 1:].reshape(nh, -1)\n",
        "\n",
        "  attentions = attentions.reshape(nh, w_featmap, h_featmap)\n",
        "  attentions = nn.functional.interpolate(attentions.unsqueeze(0), scale_factor=patch_size, mode=\"nearest\")[0].cpu().numpy()\n",
        "\n",
        "  print(attentions.shape)\n",
        "\n",
        "  # save attentions heatmaps\n",
        "  os.makedirs('maps', exist_ok=True)\n",
        "  torchvision.utils.save_image(torchvision.utils.make_grid(inputs, normalize=True, scale_each=True),\n",
        "                              os.path.join('maps', \"img.png\"))\n",
        "  for j in range(nh):\n",
        "      fname = os.path.join('maps', \"attn-head\" + str(j) + \".png\")\n",
        "      plt.imsave(fname=fname, arr=attentions[j], format='png')\n",
        "      print(f\"{fname} saved.\")\n",
        "\n",
        "save_attentions(inputs[0], vitb16.get_last_selfattention(inputs[0].to(device)))"
      ],
      "metadata": {
        "colab": {
          "base_uri": "https://localhost:8080/"
        },
        "id": "e3E8-QO8B763",
        "outputId": "d2cea743-2f3e-415b-de38-0b73d47510bf"
      },
      "execution_count": null,
      "outputs": [
        {
          "output_type": "stream",
          "name": "stdout",
          "text": [
            "(12, 480, 480)\n",
            "maps/attn-head0.png saved.\n",
            "maps/attn-head1.png saved.\n",
            "maps/attn-head2.png saved.\n",
            "maps/attn-head3.png saved.\n",
            "maps/attn-head4.png saved.\n",
            "maps/attn-head5.png saved.\n",
            "maps/attn-head6.png saved.\n",
            "maps/attn-head7.png saved.\n",
            "maps/attn-head8.png saved.\n",
            "maps/attn-head9.png saved.\n",
            "maps/attn-head10.png saved.\n",
            "maps/attn-head11.png saved.\n"
          ]
        }
      ]
    },
    {
      "cell_type": "code",
      "source": [
        "import torch.optim as optim\n",
        "\n",
        "def my_loss(attentions, target):\n",
        "  inverted_target = 1 - target\n",
        "  loss = torch.mean((torch.mul(target, attentions[0]) - \\\n",
        "                     torch.mul(inverted_target, attentions[1])) ** 2) + \\\n",
        "         torch.mean((torch.mul(inverted_target, attentions[0]) - \\\n",
        "                     torch.mul(target, attentions[1])) ** 2)\n",
        "  return loss\n",
        "\n",
        "def train(model, inputs, labels, max_epochs = 100):\n",
        "  optimizer = optim.Adam(model.parameters(), lr=1e-3)\n",
        "\n",
        "  for epoch in range(max_epochs):\n",
        "    loss_avg = 0\n",
        "    for (input, label) in zip(inputs, labels):\n",
        "      optimizer.zero_grad()\n",
        "\n",
        "      outputs = vitb16(input)\n",
        "      attentions = vitb16.get_last_selfattention(input.to(device))[0]\n",
        "\n",
        "      loss = my_loss(attentions, label)\n",
        "      loss.backward()\n",
        "\n",
        "      optimizer.step()\n",
        "\n",
        "      loss_avg += loss.item()\n",
        "\n",
        "    print(f'Epoch {epoch}, average loss: {loss_avg / len(dataset)}')\n"
      ],
      "metadata": {
        "id": "8vd1pJ0KjZwR"
      },
      "execution_count": null,
      "outputs": []
    },
    {
      "cell_type": "code",
      "source": [
        "print(labels.shape)\n",
        "train(vitb16, inputs, labels[:, 0, :, :])"
      ],
      "metadata": {
        "colab": {
          "base_uri": "https://localhost:8080/"
        },
        "id": "vyb9dbwWPkwJ",
        "outputId": "88819526-724c-43fa-ec51-dd29fdf41e09"
      },
      "execution_count": null,
      "outputs": [
        {
          "output_type": "stream",
          "name": "stdout",
          "text": [
            "torch.Size([245, 1, 901, 901])\n",
            "Epoch 0, average loss: 2.3993750281598685e-06\n",
            "Epoch 1, average loss: 2.399344330857572e-06\n",
            "Epoch 2, average loss: 2.3993048773486314e-06\n",
            "Epoch 3, average loss: 2.3992655027244356e-06\n",
            "Epoch 4, average loss: 2.399228620858167e-06\n",
            "Epoch 5, average loss: 2.3991950818489554e-06\n",
            "Epoch 6, average loss: 2.3991711417210707e-06\n"
          ]
        }
      ]
    },
    {
      "cell_type": "code",
      "source": [
        "save_attentions(dataset[50][0], vitb16.get_last_selfattention(dataset[50][0].to(device)))"
      ],
      "metadata": {
        "colab": {
          "base_uri": "https://localhost:8080/"
        },
        "id": "KI-HcRkQqeww",
        "outputId": "6be52c9b-f417-40df-fb93-85959f20894b"
      },
      "execution_count": null,
      "outputs": [
        {
          "output_type": "stream",
          "name": "stdout",
          "text": [
            "(12, 480, 480)\n",
            "maps/attn-head0.png saved.\n",
            "maps/attn-head1.png saved.\n",
            "maps/attn-head2.png saved.\n",
            "maps/attn-head3.png saved.\n",
            "maps/attn-head4.png saved.\n",
            "maps/attn-head5.png saved.\n",
            "maps/attn-head6.png saved.\n",
            "maps/attn-head7.png saved.\n",
            "maps/attn-head8.png saved.\n",
            "maps/attn-head9.png saved.\n",
            "maps/attn-head10.png saved.\n",
            "maps/attn-head11.png saved.\n"
          ]
        }
      ]
    },
    {
      "cell_type": "code",
      "source": [],
      "metadata": {
        "id": "JdAEG9Xxuruw"
      },
      "execution_count": null,
      "outputs": []
    }
  ]
}